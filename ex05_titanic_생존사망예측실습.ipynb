{
 "cells": [
  {
   "cell_type": "markdown",
   "id": "66fc7640",
   "metadata": {},
   "source": [
    "### ✅ 목표\n",
    "- 타이타닉 데이터를 학습해서 생존자/사망자를 예측해보자\n",
    "- 머신러닝 전체 과정을 진행해보자"
   ]
  },
  {
   "cell_type": "markdown",
   "id": "42ff6653",
   "metadata": {},
   "source": [
    "#### ✅ 1. 문제 정의\n",
    "- 생존/사망을 예측\n",
    "- kaggle 경진대회에서 높은 순위를 차지해보자"
   ]
  },
  {
   "cell_type": "markdown",
   "id": "3db457eb",
   "metadata": {},
   "source": [
    "#### ✅ 2. 데이터 수집(불러와서 확인)"
   ]
  },
  {
   "cell_type": "code",
   "execution_count": 1,
   "id": "8e206fcf",
   "metadata": {},
   "outputs": [],
   "source": [
    "# 라이브러리 불러오기\n",
    "\n",
    "import pandas as pd\n",
    "import numpy as np\n",
    "import matplotlib.pyplot as plt\n",
    "import seaborn as sns # 시각화 라이브러리"
   ]
  },
  {
   "cell_type": "markdown",
   "id": "7631f851",
   "metadata": {},
   "source": [
    "- ✅ 타이타닉 train 데이터와 test 데이터를 불러와서 변수에 저장(Passengerld라는 컬럼을 인덱스 자리로 옮기면서 불러오기)"
   ]
  },
  {
   "cell_type": "code",
   "execution_count": 2,
   "id": "48f8840e",
   "metadata": {},
   "outputs": [
    {
     "data": {
      "text/html": [
       "<div>\n",
       "<style scoped>\n",
       "    .dataframe tbody tr th:only-of-type {\n",
       "        vertical-align: middle;\n",
       "    }\n",
       "\n",
       "    .dataframe tbody tr th {\n",
       "        vertical-align: top;\n",
       "    }\n",
       "\n",
       "    .dataframe thead th {\n",
       "        text-align: right;\n",
       "    }\n",
       "</style>\n",
       "<table border=\"1\" class=\"dataframe\">\n",
       "  <thead>\n",
       "    <tr style=\"text-align: right;\">\n",
       "      <th></th>\n",
       "      <th>Survived</th>\n",
       "      <th>Pclass</th>\n",
       "      <th>Name</th>\n",
       "      <th>Sex</th>\n",
       "      <th>Age</th>\n",
       "      <th>SibSp</th>\n",
       "      <th>Parch</th>\n",
       "      <th>Ticket</th>\n",
       "      <th>Fare</th>\n",
       "      <th>Cabin</th>\n",
       "      <th>Embarked</th>\n",
       "    </tr>\n",
       "    <tr>\n",
       "      <th>PassengerId</th>\n",
       "      <th></th>\n",
       "      <th></th>\n",
       "      <th></th>\n",
       "      <th></th>\n",
       "      <th></th>\n",
       "      <th></th>\n",
       "      <th></th>\n",
       "      <th></th>\n",
       "      <th></th>\n",
       "      <th></th>\n",
       "      <th></th>\n",
       "    </tr>\n",
       "  </thead>\n",
       "  <tbody>\n",
       "    <tr>\n",
       "      <th>1</th>\n",
       "      <td>0</td>\n",
       "      <td>3</td>\n",
       "      <td>Braund, Mr. Owen Harris</td>\n",
       "      <td>male</td>\n",
       "      <td>22.0</td>\n",
       "      <td>1</td>\n",
       "      <td>0</td>\n",
       "      <td>A/5 21171</td>\n",
       "      <td>7.2500</td>\n",
       "      <td>NaN</td>\n",
       "      <td>S</td>\n",
       "    </tr>\n",
       "    <tr>\n",
       "      <th>2</th>\n",
       "      <td>1</td>\n",
       "      <td>1</td>\n",
       "      <td>Cumings, Mrs. John Bradley (Florence Briggs Th...</td>\n",
       "      <td>female</td>\n",
       "      <td>38.0</td>\n",
       "      <td>1</td>\n",
       "      <td>0</td>\n",
       "      <td>PC 17599</td>\n",
       "      <td>71.2833</td>\n",
       "      <td>C85</td>\n",
       "      <td>C</td>\n",
       "    </tr>\n",
       "    <tr>\n",
       "      <th>3</th>\n",
       "      <td>1</td>\n",
       "      <td>3</td>\n",
       "      <td>Heikkinen, Miss. Laina</td>\n",
       "      <td>female</td>\n",
       "      <td>26.0</td>\n",
       "      <td>0</td>\n",
       "      <td>0</td>\n",
       "      <td>STON/O2. 3101282</td>\n",
       "      <td>7.9250</td>\n",
       "      <td>NaN</td>\n",
       "      <td>S</td>\n",
       "    </tr>\n",
       "    <tr>\n",
       "      <th>4</th>\n",
       "      <td>1</td>\n",
       "      <td>1</td>\n",
       "      <td>Futrelle, Mrs. Jacques Heath (Lily May Peel)</td>\n",
       "      <td>female</td>\n",
       "      <td>35.0</td>\n",
       "      <td>1</td>\n",
       "      <td>0</td>\n",
       "      <td>113803</td>\n",
       "      <td>53.1000</td>\n",
       "      <td>C123</td>\n",
       "      <td>S</td>\n",
       "    </tr>\n",
       "    <tr>\n",
       "      <th>5</th>\n",
       "      <td>0</td>\n",
       "      <td>3</td>\n",
       "      <td>Allen, Mr. William Henry</td>\n",
       "      <td>male</td>\n",
       "      <td>35.0</td>\n",
       "      <td>0</td>\n",
       "      <td>0</td>\n",
       "      <td>373450</td>\n",
       "      <td>8.0500</td>\n",
       "      <td>NaN</td>\n",
       "      <td>S</td>\n",
       "    </tr>\n",
       "  </tbody>\n",
       "</table>\n",
       "</div>"
      ],
      "text/plain": [
       "             Survived  Pclass  \\\n",
       "PassengerId                     \n",
       "1                   0       3   \n",
       "2                   1       1   \n",
       "3                   1       3   \n",
       "4                   1       1   \n",
       "5                   0       3   \n",
       "\n",
       "                                                          Name     Sex   Age  \\\n",
       "PassengerId                                                                    \n",
       "1                                      Braund, Mr. Owen Harris    male  22.0   \n",
       "2            Cumings, Mrs. John Bradley (Florence Briggs Th...  female  38.0   \n",
       "3                                       Heikkinen, Miss. Laina  female  26.0   \n",
       "4                 Futrelle, Mrs. Jacques Heath (Lily May Peel)  female  35.0   \n",
       "5                                     Allen, Mr. William Henry    male  35.0   \n",
       "\n",
       "             SibSp  Parch            Ticket     Fare Cabin Embarked  \n",
       "PassengerId                                                          \n",
       "1                1      0         A/5 21171   7.2500   NaN        S  \n",
       "2                1      0          PC 17599  71.2833   C85        C  \n",
       "3                0      0  STON/O2. 3101282   7.9250   NaN        S  \n",
       "4                1      0            113803  53.1000  C123        S  \n",
       "5                0      0            373450   8.0500   NaN        S  "
      ]
     },
     "execution_count": 2,
     "metadata": {},
     "output_type": "execute_result"
    }
   ],
   "source": [
    "# csv -> pd.read_csv\n",
    "\n",
    "train = pd.read_csv('./data/train.csv', index_col = 'PassengerId')\n",
    "test = pd.read_csv('./data/test.csv', index_col = 'PassengerId')\n",
    "train.head()"
   ]
  },
  {
   "cell_type": "code",
   "execution_count": 3,
   "id": "d07e672c",
   "metadata": {},
   "outputs": [
    {
     "name": "stdout",
     "output_type": "stream",
     "text": [
      "훈련 데이터 크기 :  (891, 11)\n",
      "테스트 데이터 크기 :  (418, 10)\n"
     ]
    }
   ],
   "source": [
    "# 크기 확인\n",
    "\n",
    "print('훈련 데이터 크기 : ', train.shape)\n",
    "print('테스트 데이터 크기 : ', test.shape)\n",
    "# 컬럼의 개수가 다르다"
   ]
  },
  {
   "cell_type": "markdown",
   "id": "4db2de58",
   "metadata": {},
   "source": [
    "#### ✅ 3. 데이터 전처리 및 데이터 탐색"
   ]
  },
  {
   "cell_type": "code",
   "execution_count": 4,
   "id": "873310d4",
   "metadata": {},
   "outputs": [
    {
     "name": "stdout",
     "output_type": "stream",
     "text": [
      "<class 'pandas.core.frame.DataFrame'>\n",
      "Index: 891 entries, 1 to 891\n",
      "Data columns (total 11 columns):\n",
      " #   Column    Non-Null Count  Dtype  \n",
      "---  ------    --------------  -----  \n",
      " 0   Survived  891 non-null    int64  \n",
      " 1   Pclass    891 non-null    int64  \n",
      " 2   Name      891 non-null    object \n",
      " 3   Sex       891 non-null    object \n",
      " 4   Age       714 non-null    float64\n",
      " 5   SibSp     891 non-null    int64  \n",
      " 6   Parch     891 non-null    int64  \n",
      " 7   Ticket    891 non-null    object \n",
      " 8   Fare      891 non-null    float64\n",
      " 9   Cabin     204 non-null    object \n",
      " 10  Embarked  889 non-null    object \n",
      "dtypes: float64(2), int64(4), object(5)\n",
      "memory usage: 83.5+ KB\n"
     ]
    }
   ],
   "source": [
    "train.info()\n",
    "# 결측치가 있는 컬럼 : Age, Cabin, Embarked\n",
    "# 데이터 타입 : 숫자(정수, 실수), 문자\n",
    "# 모델링을 할 때 모델은 숫자데이터만 인식\n",
    "# 문자 -> 숫자 : 인코딩(원핫인코딩, 라벨인코딩)"
   ]
  },
  {
   "cell_type": "code",
   "execution_count": 5,
   "id": "74648ad1",
   "metadata": {},
   "outputs": [
    {
     "name": "stdout",
     "output_type": "stream",
     "text": [
      "<class 'pandas.core.frame.DataFrame'>\n",
      "Index: 418 entries, 892 to 1309\n",
      "Data columns (total 10 columns):\n",
      " #   Column    Non-Null Count  Dtype  \n",
      "---  ------    --------------  -----  \n",
      " 0   Pclass    418 non-null    int64  \n",
      " 1   Name      418 non-null    object \n",
      " 2   Sex       418 non-null    object \n",
      " 3   Age       332 non-null    float64\n",
      " 4   SibSp     418 non-null    int64  \n",
      " 5   Parch     418 non-null    int64  \n",
      " 6   Ticket    418 non-null    object \n",
      " 7   Fare      417 non-null    float64\n",
      " 8   Cabin     91 non-null     object \n",
      " 9   Embarked  418 non-null    object \n",
      "dtypes: float64(2), int64(3), object(5)\n",
      "memory usage: 35.9+ KB\n"
     ]
    }
   ],
   "source": [
    "test.info()\n",
    "# Survived 컬럼이 없다! -> 우리가 맞춰야하는 답 데이터\n",
    "# y_test는 어디있을까? --> kaggle이 알고 있다\n",
    "# 결측치가 있는 컬럼 : Age, Fare, Cabin\n",
    "# 데이터 타입 : 숫자(정수, 실수), 문자열"
   ]
  },
  {
   "cell_type": "code",
   "execution_count": 6,
   "id": "c3a81252",
   "metadata": {},
   "outputs": [
    {
     "data": {
      "text/html": [
       "<div>\n",
       "<style scoped>\n",
       "    .dataframe tbody tr th:only-of-type {\n",
       "        vertical-align: middle;\n",
       "    }\n",
       "\n",
       "    .dataframe tbody tr th {\n",
       "        vertical-align: top;\n",
       "    }\n",
       "\n",
       "    .dataframe thead th {\n",
       "        text-align: right;\n",
       "    }\n",
       "</style>\n",
       "<table border=\"1\" class=\"dataframe\">\n",
       "  <thead>\n",
       "    <tr style=\"text-align: right;\">\n",
       "      <th></th>\n",
       "      <th>Survived</th>\n",
       "      <th>Pclass</th>\n",
       "      <th>Name</th>\n",
       "      <th>Sex</th>\n",
       "      <th>Age</th>\n",
       "      <th>SibSp</th>\n",
       "      <th>Parch</th>\n",
       "      <th>Ticket</th>\n",
       "      <th>Fare</th>\n",
       "      <th>Cabin</th>\n",
       "      <th>Embarked</th>\n",
       "    </tr>\n",
       "    <tr>\n",
       "      <th>PassengerId</th>\n",
       "      <th></th>\n",
       "      <th></th>\n",
       "      <th></th>\n",
       "      <th></th>\n",
       "      <th></th>\n",
       "      <th></th>\n",
       "      <th></th>\n",
       "      <th></th>\n",
       "      <th></th>\n",
       "      <th></th>\n",
       "      <th></th>\n",
       "    </tr>\n",
       "  </thead>\n",
       "  <tbody>\n",
       "    <tr>\n",
       "      <th>1</th>\n",
       "      <td>0</td>\n",
       "      <td>3</td>\n",
       "      <td>Braund, Mr. Owen Harris</td>\n",
       "      <td>male</td>\n",
       "      <td>22.0</td>\n",
       "      <td>1</td>\n",
       "      <td>0</td>\n",
       "      <td>A/5 21171</td>\n",
       "      <td>7.25</td>\n",
       "      <td>NaN</td>\n",
       "      <td>S</td>\n",
       "    </tr>\n",
       "  </tbody>\n",
       "</table>\n",
       "</div>"
      ],
      "text/plain": [
       "             Survived  Pclass                     Name   Sex   Age  SibSp  \\\n",
       "PassengerId                                                                 \n",
       "1                   0       3  Braund, Mr. Owen Harris  male  22.0      1   \n",
       "\n",
       "             Parch     Ticket  Fare Cabin Embarked  \n",
       "PassengerId                                         \n",
       "1                0  A/5 21171  7.25   NaN        S  "
      ]
     },
     "execution_count": 6,
     "metadata": {},
     "output_type": "execute_result"
    }
   ],
   "source": [
    "train.head(1)"
   ]
  },
  {
   "cell_type": "code",
   "execution_count": 7,
   "id": "9cbc8473",
   "metadata": {},
   "outputs": [
    {
     "data": {
      "text/plain": [
       "Index(['Survived', 'Pclass', 'Name', 'Sex', 'Age', 'SibSp', 'Parch', 'Ticket',\n",
       "       'Fare', 'Cabin', 'Embarked'],\n",
       "      dtype='object')"
      ]
     },
     "execution_count": 7,
     "metadata": {},
     "output_type": "execute_result"
    }
   ],
   "source": [
    "# 컬럼 정보 정리\n",
    "\n",
    "train.columns\n",
    "# 'Survived' : 생존/사망 결과값이 담긴 컬럼 (정답 데이터) -> 0 : 사망, 1 : 생존\n",
    "# 'Pclass' : 승객 등급(1:상위층, 2:중상위층, 3:하위층)\n",
    "# 'Name'\n",
    "# 'Sex'\n",
    "# 'SibSp' : 형제, 자매, 배우자의 수 (같이 탑승한)\n",
    "# 'Parch' : 부모/자식의 수 (같이 탑승한)\n",
    "# 'Ticket' : 티켓 번호\n",
    "# 'Fare' : 요금\n",
    "# 'Cabin' : 객실 번호\n",
    "# 'Embarked' : 승선항(S, C, Q)\n",
    "# S = Southampton, C = Cherbourg, Q = Queenstown"
   ]
  },
  {
   "cell_type": "markdown",
   "id": "880c553f",
   "metadata": {},
   "source": [
    "- ✅ train : Embarked 컬럼 결측치 채우기"
   ]
  },
  {
   "cell_type": "code",
   "execution_count": 8,
   "id": "17a0e407",
   "metadata": {},
   "outputs": [
    {
     "data": {
      "text/plain": [
       "PassengerId\n",
       "1      False\n",
       "2      False\n",
       "3      False\n",
       "4      False\n",
       "5      False\n",
       "       ...  \n",
       "887    False\n",
       "888    False\n",
       "889    False\n",
       "890    False\n",
       "891    False\n",
       "Name: Embarked, Length: 891, dtype: bool"
      ]
     },
     "execution_count": 8,
     "metadata": {},
     "output_type": "execute_result"
    }
   ],
   "source": [
    "# 데이터 확인 -> train 기준으로 확인\n",
    "# 좋은 모델을 만드려면 학습 데이터를 잘 구비해야 한다.\n",
    "# train에서 Embarked 컬럼 인덱싱 -> S, C, Q가 몇 개씩 있는지 확인\n",
    "\n",
    "# 결측치 채우는 방법\n",
    "# 1. 제거(제거해도 데이터에 영향이 미미)\n",
    "# 2. 임의의 값으로 채워넣기(중앙값, 평균값, 최빈값)\n",
    "\n",
    "train['Embarked'].value_counts() # S에서 제일 많이 탔다\n",
    "\n",
    "# 결측치 몇개?\n",
    "train['Embarked'].isnull().sum()\n",
    "\n",
    "# train['Embarked'] 결측치가 있는 데이터 출력하기\n",
    "train['Embarked'].isnull() # 불리언 인덱싱의 재료!!"
   ]
  },
  {
   "cell_type": "code",
   "execution_count": 9,
   "id": "85dfb720",
   "metadata": {},
   "outputs": [],
   "source": [
    "# 두 사람의 데이터가 서로 비슷\n",
    "# -> 같은 승선항에서 탔을 것이라고 가정\n",
    "# 사람이 가장 많이 탑승한 장소의 승선항 값으로 채워보기\n",
    "\n",
    "# 1. 인덱싱을 하나씩 해서 접근 -> 값을 수정\n",
    "# 2. NaN 값(비어있는 값)을 모두 찾아서 대체해주는 함수를 사용 : fillna(값)\n",
    "\n",
    "# 결측치가 있는 자리에 값을 초기화해서 대입\n",
    "\n",
    "train['Embarked'] = train['Embarked'].fillna('S')"
   ]
  },
  {
   "cell_type": "code",
   "execution_count": 10,
   "id": "a7b14803",
   "metadata": {},
   "outputs": [
    {
     "data": {
      "text/plain": [
       "0"
      ]
     },
     "execution_count": 10,
     "metadata": {},
     "output_type": "execute_result"
    }
   ],
   "source": [
    "train['Embarked'].isnull().sum() # -> NaN 값이 채워졌구나!!"
   ]
  },
  {
   "cell_type": "markdown",
   "id": "6bc4ec24",
   "metadata": {},
   "source": [
    "- ✅ test 데이터에 있는 Fare 컬럼 결측치 채우기"
   ]
  },
  {
   "cell_type": "code",
   "execution_count": 11,
   "id": "18330cce",
   "metadata": {},
   "outputs": [
    {
     "data": {
      "text/html": [
       "<div>\n",
       "<style scoped>\n",
       "    .dataframe tbody tr th:only-of-type {\n",
       "        vertical-align: middle;\n",
       "    }\n",
       "\n",
       "    .dataframe tbody tr th {\n",
       "        vertical-align: top;\n",
       "    }\n",
       "\n",
       "    .dataframe thead th {\n",
       "        text-align: right;\n",
       "    }\n",
       "</style>\n",
       "<table border=\"1\" class=\"dataframe\">\n",
       "  <thead>\n",
       "    <tr style=\"text-align: right;\">\n",
       "      <th></th>\n",
       "      <th>Survived</th>\n",
       "      <th>Pclass</th>\n",
       "      <th>Age</th>\n",
       "      <th>SibSp</th>\n",
       "      <th>Parch</th>\n",
       "      <th>Fare</th>\n",
       "    </tr>\n",
       "  </thead>\n",
       "  <tbody>\n",
       "    <tr>\n",
       "      <th>Survived</th>\n",
       "      <td>1.000000</td>\n",
       "      <td>-0.338481</td>\n",
       "      <td>-0.077221</td>\n",
       "      <td>-0.035322</td>\n",
       "      <td>0.081629</td>\n",
       "      <td>0.257307</td>\n",
       "    </tr>\n",
       "    <tr>\n",
       "      <th>Pclass</th>\n",
       "      <td>-0.338481</td>\n",
       "      <td>1.000000</td>\n",
       "      <td>-0.369226</td>\n",
       "      <td>0.083081</td>\n",
       "      <td>0.018443</td>\n",
       "      <td>-0.549500</td>\n",
       "    </tr>\n",
       "    <tr>\n",
       "      <th>Age</th>\n",
       "      <td>-0.077221</td>\n",
       "      <td>-0.369226</td>\n",
       "      <td>1.000000</td>\n",
       "      <td>-0.308247</td>\n",
       "      <td>-0.189119</td>\n",
       "      <td>0.096067</td>\n",
       "    </tr>\n",
       "    <tr>\n",
       "      <th>SibSp</th>\n",
       "      <td>-0.035322</td>\n",
       "      <td>0.083081</td>\n",
       "      <td>-0.308247</td>\n",
       "      <td>1.000000</td>\n",
       "      <td>0.414838</td>\n",
       "      <td>0.159651</td>\n",
       "    </tr>\n",
       "    <tr>\n",
       "      <th>Parch</th>\n",
       "      <td>0.081629</td>\n",
       "      <td>0.018443</td>\n",
       "      <td>-0.189119</td>\n",
       "      <td>0.414838</td>\n",
       "      <td>1.000000</td>\n",
       "      <td>0.216225</td>\n",
       "    </tr>\n",
       "    <tr>\n",
       "      <th>Fare</th>\n",
       "      <td>0.257307</td>\n",
       "      <td>-0.549500</td>\n",
       "      <td>0.096067</td>\n",
       "      <td>0.159651</td>\n",
       "      <td>0.216225</td>\n",
       "      <td>1.000000</td>\n",
       "    </tr>\n",
       "  </tbody>\n",
       "</table>\n",
       "</div>"
      ],
      "text/plain": [
       "          Survived    Pclass       Age     SibSp     Parch      Fare\n",
       "Survived  1.000000 -0.338481 -0.077221 -0.035322  0.081629  0.257307\n",
       "Pclass   -0.338481  1.000000 -0.369226  0.083081  0.018443 -0.549500\n",
       "Age      -0.077221 -0.369226  1.000000 -0.308247 -0.189119  0.096067\n",
       "SibSp    -0.035322  0.083081 -0.308247  1.000000  0.414838  0.159651\n",
       "Parch     0.081629  0.018443 -0.189119  0.414838  1.000000  0.216225\n",
       "Fare      0.257307 -0.549500  0.096067  0.159651  0.216225  1.000000"
      ]
     },
     "execution_count": 11,
     "metadata": {},
     "output_type": "execute_result"
    }
   ],
   "source": [
    "# test 데이터에서 Fare 컬럼 인덱싱한 후 결측치가 존재하는 행 출력하기\n",
    "\n",
    "test[test['Fare'].isnull()] # 3\n",
    "# pclass 혹은 성별 혹은 도시와 연관이 되지 않았을까?\n",
    "# 상관관계 확인\n",
    "\n",
    "train.corr(numeric_only=True) # 문자열로 된 컬럼 포함 -> 상관계수 X\n",
    "\n",
    "# Fare 컬럼과 연관이 있는 컬럼은 무엇일까? -> Pclass\n",
    "# -1 ~ +1 표현되는 계수\n",
    "# -1과 +1에 가까울수록 속성간에 관계가 깊다\n",
    "# 0에 가까울수록 상대적으로 관계가 깊지 않다(적음)"
   ]
  },
  {
   "cell_type": "code",
   "execution_count": 12,
   "id": "e3fd6f19",
   "metadata": {},
   "outputs": [
    {
     "data": {
      "text/plain": [
       "count    891.000000\n",
       "mean      32.204208\n",
       "std       49.693429\n",
       "min        0.000000\n",
       "25%        7.910400\n",
       "50%       14.454200\n",
       "75%       31.000000\n",
       "max      512.329200\n",
       "Name: Fare, dtype: float64"
      ]
     },
     "execution_count": 12,
     "metadata": {},
     "output_type": "execute_result"
    }
   ],
   "source": [
    "# train 데이터의 Fare 컬럼 기술 통계량 확인\n",
    "# describe()\n",
    "# 중앙값, 평균값 중에 대표값으로 설정할 값을 찾기 위해\n",
    "\n",
    "train['Fare'].describe() # 평균값이 아닌 중앙값을 가지고 대표값으로 선택"
   ]
  },
  {
   "cell_type": "code",
   "execution_count": 13,
   "id": "fac6e4c9",
   "metadata": {},
   "outputs": [
    {
     "data": {
      "text/html": [
       "<div>\n",
       "<style scoped>\n",
       "    .dataframe tbody tr th:only-of-type {\n",
       "        vertical-align: middle;\n",
       "    }\n",
       "\n",
       "    .dataframe tbody tr th {\n",
       "        vertical-align: top;\n",
       "    }\n",
       "\n",
       "    .dataframe thead th {\n",
       "        text-align: right;\n",
       "    }\n",
       "</style>\n",
       "<table border=\"1\" class=\"dataframe\">\n",
       "  <thead>\n",
       "    <tr style=\"text-align: right;\">\n",
       "      <th></th>\n",
       "      <th></th>\n",
       "      <th>Fare</th>\n",
       "    </tr>\n",
       "    <tr>\n",
       "      <th>Pclass</th>\n",
       "      <th>Sex</th>\n",
       "      <th></th>\n",
       "    </tr>\n",
       "  </thead>\n",
       "  <tbody>\n",
       "    <tr>\n",
       "      <th rowspan=\"2\" valign=\"top\">1</th>\n",
       "      <th>female</th>\n",
       "      <td>82.66455</td>\n",
       "    </tr>\n",
       "    <tr>\n",
       "      <th>male</th>\n",
       "      <td>41.26250</td>\n",
       "    </tr>\n",
       "    <tr>\n",
       "      <th rowspan=\"2\" valign=\"top\">2</th>\n",
       "      <th>female</th>\n",
       "      <td>22.00000</td>\n",
       "    </tr>\n",
       "    <tr>\n",
       "      <th>male</th>\n",
       "      <td>13.00000</td>\n",
       "    </tr>\n",
       "    <tr>\n",
       "      <th rowspan=\"2\" valign=\"top\">3</th>\n",
       "      <th>female</th>\n",
       "      <td>12.47500</td>\n",
       "    </tr>\n",
       "    <tr>\n",
       "      <th>male</th>\n",
       "      <td>7.92500</td>\n",
       "    </tr>\n",
       "  </tbody>\n",
       "</table>\n",
       "</div>"
      ],
      "text/plain": [
       "                   Fare\n",
       "Pclass Sex             \n",
       "1      female  82.66455\n",
       "       male    41.26250\n",
       "2      female  22.00000\n",
       "       male    13.00000\n",
       "3      female  12.47500\n",
       "       male     7.92500"
      ]
     },
     "execution_count": 13,
     "metadata": {},
     "output_type": "execute_result"
    }
   ],
   "source": [
    "train[['Pclass', 'Sex', 'Fare']].groupby(['Pclass', 'Sex']).median()"
   ]
  },
  {
   "cell_type": "code",
   "execution_count": 14,
   "id": "ae8128ae",
   "metadata": {},
   "outputs": [
    {
     "data": {
      "text/plain": [
       "0"
      ]
     },
     "execution_count": 14,
     "metadata": {},
     "output_type": "execute_result"
    }
   ],
   "source": [
    "# Pclass, Sex -> Fare 중앙, 평균 값으로 결측치를 대체해보자\n",
    "# 1. female -> Fare 중앙 값, 평균 값을 확인하고 해당 값으로 채워보자\n",
    "# 2. male -> Fare 값 채워보자\n",
    "# 3. test['Fare'] 3등급, 남성 승객의 중앙값\n",
    "# train 데이터를 기준으로 승객 등급, 성별 그룹핑(groupby)\n",
    "# 중앙값 median()\n",
    "\n",
    "train[['Pclass', 'Sex', 'Fare']].groupby(['Pclass', 'Sex']).median()\n",
    "# median()이 없으면 수치값이 보이지 않음!\n",
    "# -> 어떤 값을 구할지 안알려줬기 때문!\n",
    "\n",
    "# test['Fare'] 결측치를 채워주자 -> 7.925\n",
    "\n",
    "test['Fare'] = test['Fare'].fillna(7.925)\n",
    "\n",
    "test['Fare'].isnull().sum() # 처리 확인"
   ]
  },
  {
   "cell_type": "markdown",
   "id": "e8974100",
   "metadata": {},
   "source": [
    "- ✅ Age 결측치 채우기\n",
    "    - train, test 모두 처리\n",
    "    - 나이의 평균, 중앙값으로 결측치를 채워보자\n",
    "    - 다른 컬럼과의 상관관계를 이용하여 결측치 채워보기"
   ]
  },
  {
   "cell_type": "code",
   "execution_count": 15,
   "id": "f8cf62b8",
   "metadata": {},
   "outputs": [
    {
     "data": {
      "text/plain": [
       "count    714.000000\n",
       "mean      29.699118\n",
       "std       14.526497\n",
       "min        0.420000\n",
       "25%       20.125000\n",
       "50%       28.000000\n",
       "75%       38.000000\n",
       "max       80.000000\n",
       "Name: Age, dtype: float64"
      ]
     },
     "execution_count": 15,
     "metadata": {},
     "output_type": "execute_result"
    }
   ],
   "source": [
    "# 기술 통계량\n",
    "# 중앙값 vs 평균값? -> 평균값(mean)\n",
    "\n",
    "train['Age'].describe()"
   ]
  },
  {
   "cell_type": "code",
   "execution_count": 16,
   "id": "02e7fc20",
   "metadata": {},
   "outputs": [
    {
     "data": {
      "text/plain": [
       "Age         1.000000\n",
       "Pclass      0.369226\n",
       "SibSp       0.308247\n",
       "Parch       0.189119\n",
       "Fare        0.096067\n",
       "Survived    0.077221\n",
       "Name: Age, dtype: float64"
      ]
     },
     "execution_count": 16,
     "metadata": {},
     "output_type": "execute_result"
    }
   ],
   "source": [
    "# Age 컬럼과 상관관계가 높은 컬럼 찾아보기! -> Pclass\n",
    "# 데이터프레임은 시리즈를 모은 것\n",
    "\n",
    "train.corr(numeric_only=True)['Age'].abs().sort_values(ascending=False) # 시리즈 데이터구조\n",
    "# ascending = False : 큰 값"
   ]
  },
  {
   "cell_type": "code",
   "execution_count": 17,
   "id": "e1c67081",
   "metadata": {},
   "outputs": [
    {
     "data": {
      "text/html": [
       "<div>\n",
       "<style scoped>\n",
       "    .dataframe tbody tr th:only-of-type {\n",
       "        vertical-align: middle;\n",
       "    }\n",
       "\n",
       "    .dataframe tbody tr th {\n",
       "        vertical-align: top;\n",
       "    }\n",
       "\n",
       "    .dataframe thead th {\n",
       "        text-align: right;\n",
       "    }\n",
       "</style>\n",
       "<table border=\"1\" class=\"dataframe\">\n",
       "  <thead>\n",
       "    <tr style=\"text-align: right;\">\n",
       "      <th></th>\n",
       "      <th></th>\n",
       "      <th>Age</th>\n",
       "    </tr>\n",
       "    <tr>\n",
       "      <th>Pclass</th>\n",
       "      <th>Sex</th>\n",
       "      <th></th>\n",
       "    </tr>\n",
       "  </thead>\n",
       "  <tbody>\n",
       "    <tr>\n",
       "      <th rowspan=\"2\" valign=\"top\">1</th>\n",
       "      <th>female</th>\n",
       "      <td>34.611765</td>\n",
       "    </tr>\n",
       "    <tr>\n",
       "      <th>male</th>\n",
       "      <td>41.281386</td>\n",
       "    </tr>\n",
       "    <tr>\n",
       "      <th rowspan=\"2\" valign=\"top\">2</th>\n",
       "      <th>female</th>\n",
       "      <td>28.722973</td>\n",
       "    </tr>\n",
       "    <tr>\n",
       "      <th>male</th>\n",
       "      <td>30.740707</td>\n",
       "    </tr>\n",
       "    <tr>\n",
       "      <th rowspan=\"2\" valign=\"top\">3</th>\n",
       "      <th>female</th>\n",
       "      <td>21.750000</td>\n",
       "    </tr>\n",
       "    <tr>\n",
       "      <th>male</th>\n",
       "      <td>26.507589</td>\n",
       "    </tr>\n",
       "  </tbody>\n",
       "</table>\n",
       "</div>"
      ],
      "text/plain": [
       "                     Age\n",
       "Pclass Sex              \n",
       "1      female  34.611765\n",
       "       male    41.281386\n",
       "2      female  28.722973\n",
       "       male    30.740707\n",
       "3      female  21.750000\n",
       "       male    26.507589"
      ]
     },
     "execution_count": 17,
     "metadata": {},
     "output_type": "execute_result"
    }
   ],
   "source": [
    "# Pclass, Sex, Age 컬럼의 평균값 출력해보기\n",
    "# femail, age 평균\n",
    "# male, age 평균\n",
    "\n",
    "gb1 = train[['Pclass', 'Sex', 'Age']].groupby(['Pclass', 'Sex']).mean()\n",
    "gb1\n",
    "\n",
    "# -> 나이가 많을수록 높은 클래스를 탄다\n",
    "# -> 남자가 여자보다 나이가 많다"
   ]
  },
  {
   "cell_type": "code",
   "execution_count": 18,
   "id": "69180d38",
   "metadata": {},
   "outputs": [
    {
     "data": {
      "text/plain": [
       "Age    34.611765\n",
       "Name: (1, female), dtype: float64"
      ]
     },
     "execution_count": 18,
     "metadata": {},
     "output_type": "execute_result"
    }
   ],
   "source": [
    "# gb1 3등급, male 나이 평균값 접근해보기\n",
    "# 멀티인덱스 접근 방법\n",
    "\n",
    "gb1.loc[(3, 'male')] # gb1.loc[3,'male']\n",
    "\n",
    "# 1등급 여성 나이 평균 출력해보기\n",
    "\n",
    "gb1.loc[(1, 'female')]"
   ]
  },
  {
   "cell_type": "code",
   "execution_count": 19,
   "id": "1f8482f4",
   "metadata": {},
   "outputs": [
    {
     "data": {
      "text/plain": [
       "0"
      ]
     },
     "execution_count": 19,
     "metadata": {},
     "output_type": "execute_result"
    }
   ],
   "source": [
    "train[train['Age'].isnull()]\n",
    "\n",
    "# ⭐⭐⭐ 어려움 ⭐⭐⭐\n",
    "# 결측치를 채우기 위해서 각 승객의 등급, 성별을 확인한 후\n",
    "# Age 평균 값을 인덱싱하여 채움\n",
    "\n",
    "def pre_age(row) :\n",
    "    \n",
    "    # 만약 나이가 결측치라면, 값을 가져오고 row에는 한 사람의 정보가 담긴다.\n",
    "    if np.isnan(row['Age']) : # 결측치를 확인하는 함수 == np.isnan(대상)\n",
    "        return gb1.loc[(row['Pclass'], row['Sex'])]\n",
    "    \n",
    "    # 만약 나이가 결측치가 아니라면 원래 나이값을 그대로 사용\n",
    "    else :\n",
    "        return row['Age']\n",
    "    \n",
    "train['Age'] = train.apply(pre_age, axis=1)\n",
    "train['Age'].isnull().sum()"
   ]
  },
  {
   "cell_type": "code",
   "execution_count": 20,
   "id": "c8c76edd",
   "metadata": {},
   "outputs": [
    {
     "data": {
      "text/plain": [
       "0"
      ]
     },
     "execution_count": 20,
     "metadata": {},
     "output_type": "execute_result"
    }
   ],
   "source": [
    "# test 데이터의 Age 컬럼 결측치도 처리\n",
    "\n",
    "test['Age'] = test.apply(pre_age, axis=1)\n",
    "test['Age'].isnull().sum()"
   ]
  },
  {
   "cell_type": "code",
   "execution_count": 21,
   "id": "717ed4b9",
   "metadata": {},
   "outputs": [
    {
     "name": "stderr",
     "output_type": "stream",
     "text": [
      "C:\\Users\\smhrd\\AppData\\Local\\Temp\\ipykernel_11828\\2688540183.py:1: FutureWarning: Calling int on a single element Series is deprecated and will raise a TypeError in the future. Use int(ser.iloc[0]) instead\n",
      "  train['Age'] = train['Age'].astype('int64')\n",
      "C:\\Users\\smhrd\\AppData\\Local\\Temp\\ipykernel_11828\\2688540183.py:2: FutureWarning: Calling int on a single element Series is deprecated and will raise a TypeError in the future. Use int(ser.iloc[0]) instead\n",
      "  test['Age'] = test['Age'].astype('int64')\n"
     ]
    },
    {
     "data": {
      "text/plain": [
       "dtype('int64')"
      ]
     },
     "execution_count": 21,
     "metadata": {},
     "output_type": "execute_result"
    }
   ],
   "source": [
    "train['Age'] = train['Age'].astype('int64')\n",
    "test['Age'] = test['Age'].astype('int64')\n",
    "test['Age'].dtype"
   ]
  },
  {
   "cell_type": "markdown",
   "id": "73a4584a",
   "metadata": {},
   "source": [
    "- ✅ train, test : Cabin(객실번호) 채우기"
   ]
  },
  {
   "cell_type": "code",
   "execution_count": 22,
   "id": "941ca1a7",
   "metadata": {},
   "outputs": [
    {
     "data": {
      "text/plain": [
       "687"
      ]
     },
     "execution_count": 22,
     "metadata": {},
     "output_type": "execute_result"
    }
   ],
   "source": [
    "# train['Cabin'] 결측치는 몇 개 있을까?\n",
    "\n",
    "train['Cabin'].isnull().sum() # 결측치가 너무 많음!"
   ]
  },
  {
   "cell_type": "code",
   "execution_count": 23,
   "id": "89100437",
   "metadata": {},
   "outputs": [
    {
     "name": "stdout",
     "output_type": "stream",
     "text": [
      "<class 'pandas.core.frame.DataFrame'>\n",
      "Index: 891 entries, 1 to 891\n",
      "Data columns (total 11 columns):\n",
      " #   Column    Non-Null Count  Dtype  \n",
      "---  ------    --------------  -----  \n",
      " 0   Survived  891 non-null    int64  \n",
      " 1   Pclass    891 non-null    int64  \n",
      " 2   Name      891 non-null    object \n",
      " 3   Sex       891 non-null    object \n",
      " 4   Age       891 non-null    int64  \n",
      " 5   SibSp     891 non-null    int64  \n",
      " 6   Parch     891 non-null    int64  \n",
      " 7   Ticket    891 non-null    object \n",
      " 8   Fare      891 non-null    float64\n",
      " 9   Cabin     204 non-null    object \n",
      " 10  Embarked  891 non-null    object \n",
      "dtypes: float64(1), int64(5), object(5)\n",
      "memory usage: 83.5+ KB\n"
     ]
    }
   ],
   "source": [
    "train.info() # 891개 중에 687개 -> 절반 이상이 결측치!"
   ]
  },
  {
   "cell_type": "code",
   "execution_count": 24,
   "id": "d6b333e1",
   "metadata": {},
   "outputs": [],
   "source": [
    "# 중복 없이 값 확인\n",
    "# unique()\n",
    "\n",
    "train.columns # 층을 나눈 것 -> Cabin, Pclass\n",
    "\n",
    "train['Cabin'].unique()\n",
    "# 생김새 : 층 + 방 번호(C 층 2번)\n",
    "\n",
    "# 결측치를 임의로 'M' 값으로 채워보기\n",
    "# filna()로 결측치를 처리한 후 Deck 컬럼을 생성해서 담기\n",
    "\n",
    "train['Deck'] = train['Cabin'].fillna('M')\n",
    "test['Deck'] = test['Cabin'].fillna('M')"
   ]
  },
  {
   "cell_type": "code",
   "execution_count": 25,
   "id": "b0dff946",
   "metadata": {},
   "outputs": [
    {
     "data": {
      "text/plain": [
       "PassengerId\n",
       "1      M\n",
       "2      C\n",
       "3      M\n",
       "4      C\n",
       "5      M\n",
       "      ..\n",
       "887    M\n",
       "888    B\n",
       "889    M\n",
       "890    C\n",
       "891    M\n",
       "Name: Deck, Length: 891, dtype: object"
      ]
     },
     "execution_count": 25,
     "metadata": {},
     "output_type": "execute_result"
    }
   ],
   "source": [
    "# Deck 컬럼에서 맨 첫글자 알파벳만 추출하기\n",
    "\n",
    "train['Deck'] = train['Deck'].str[0]\n",
    "test['Deck'] = test['Deck'].str[0]\n",
    "train['Deck']"
   ]
  },
  {
   "cell_type": "code",
   "execution_count": 26,
   "id": "9947b20a",
   "metadata": {},
   "outputs": [],
   "source": [
    "# Cabin 컬럼 삭제\n",
    "# drop()\n",
    "\n",
    "train.drop('Cabin', axis=1, inplace=True)\n",
    "test.drop('Cabin', axis=1, inplace=True)"
   ]
  },
  {
   "cell_type": "code",
   "execution_count": 27,
   "id": "de5d8885",
   "metadata": {},
   "outputs": [
    {
     "name": "stdout",
     "output_type": "stream",
     "text": [
      "<class 'pandas.core.frame.DataFrame'>\n",
      "Index: 891 entries, 1 to 891\n",
      "Data columns (total 11 columns):\n",
      " #   Column    Non-Null Count  Dtype  \n",
      "---  ------    --------------  -----  \n",
      " 0   Survived  891 non-null    int64  \n",
      " 1   Pclass    891 non-null    int64  \n",
      " 2   Name      891 non-null    object \n",
      " 3   Sex       891 non-null    object \n",
      " 4   Age       891 non-null    int64  \n",
      " 5   SibSp     891 non-null    int64  \n",
      " 6   Parch     891 non-null    int64  \n",
      " 7   Ticket    891 non-null    object \n",
      " 8   Fare      891 non-null    float64\n",
      " 9   Embarked  891 non-null    object \n",
      " 10  Deck      891 non-null    object \n",
      "dtypes: float64(1), int64(5), object(5)\n",
      "memory usage: 83.5+ KB\n"
     ]
    }
   ],
   "source": [
    "train.info()"
   ]
  },
  {
   "cell_type": "code",
   "execution_count": 28,
   "id": "545d0b62",
   "metadata": {},
   "outputs": [
    {
     "name": "stdout",
     "output_type": "stream",
     "text": [
      "<class 'pandas.core.frame.DataFrame'>\n",
      "Index: 418 entries, 892 to 1309\n",
      "Data columns (total 10 columns):\n",
      " #   Column    Non-Null Count  Dtype  \n",
      "---  ------    --------------  -----  \n",
      " 0   Pclass    418 non-null    int64  \n",
      " 1   Name      418 non-null    object \n",
      " 2   Sex       418 non-null    object \n",
      " 3   Age       418 non-null    int64  \n",
      " 4   SibSp     418 non-null    int64  \n",
      " 5   Parch     418 non-null    int64  \n",
      " 6   Ticket    418 non-null    object \n",
      " 7   Fare      418 non-null    float64\n",
      " 8   Embarked  418 non-null    object \n",
      " 9   Deck      418 non-null    object \n",
      "dtypes: float64(1), int64(4), object(5)\n",
      "memory usage: 35.9+ KB\n"
     ]
    }
   ],
   "source": [
    "test.info()"
   ]
  },
  {
   "cell_type": "markdown",
   "id": "c8829e62",
   "metadata": {},
   "source": [
    "#### ✅ 데이터 탐색"
   ]
  },
  {
   "cell_type": "code",
   "execution_count": 29,
   "id": "49c62cc4",
   "metadata": {},
   "outputs": [
    {
     "data": {
      "image/png": "[encoded data removed]",
      "text/plain": [
       "<Figure size 600x300 with 1 Axes>"
      ]
     },
     "metadata": {},
     "output_type": "display_data"
    }
   ],
   "source": [
    "# Deck 컬럼과 Survived 컬럼의 연관성 확인\n",
    "# 막대 그래프 활용\n",
    "\n",
    "plt.figure(figsize=(6,3))\n",
    "\n",
    "sns.countplot(data = train, x = 'Deck', hue = 'Survived')\n",
    "\n",
    "plt.show()\n",
    "# 1 -> 생존\n",
    "# A -> 높은 층"
   ]
  },
  {
   "cell_type": "code",
   "execution_count": 30,
   "id": "31b0dab7",
   "metadata": {},
   "outputs": [],
   "source": [
    "# M에서 상대적으로 많은 사람들이 사망했다\n",
    "# Survived에 영향을 주지는 않을까?"
   ]
  },
  {
   "cell_type": "code",
   "execution_count": 31,
   "id": "eaa4b201",
   "metadata": {},
   "outputs": [
    {
     "data": {
      "image/png": "[encoded data removed]",
      "text/plain": [
       "<Figure size 600x300 with 1 Axes>"
      ]
     },
     "metadata": {},
     "output_type": "display_data"
    }
   ],
   "source": [
    "# Pclass와 Survived 시각화\n",
    "# countplot\n",
    "# 생존/사망 의미 파악해보기\n",
    "\n",
    "plt.figure(figsize=(6,3))\n",
    "\n",
    "sns.countplot(data=train, x='Pclass', hue='Survived')\n",
    "\n",
    "plt.show()"
   ]
  },
  {
   "cell_type": "code",
   "execution_count": 32,
   "id": "84fd9c4f",
   "metadata": {},
   "outputs": [],
   "source": [
    "# 1등급 - 비교적 생존율 높음\n",
    "# 2등급 - 사망율이 생존율보다 조금 높다\n",
    "# 3등급 - 사망율이 월등히 높다"
   ]
  },
  {
   "cell_type": "code",
   "execution_count": 52,
   "id": "45854b90",
   "metadata": {},
   "outputs": [
    {
     "data": {
      "image/png": "[encoded data removed]",
      "text/plain": [
       "<Figure size 600x300 with 1 Axes>"
      ]
     },
     "metadata": {},
     "output_type": "display_data"
    }
   ],
   "source": [
    "# Deck와 Pclass를 연관지어서 시각화\n",
    "# X = Deck\n",
    "# hue = Pclass\n",
    "\n",
    "plt.figure(figsize=(6,3))\n",
    "\n",
    "sns.countplot(data=train, x='Deck', hue='Pclass')\n",
    "\n",
    "plt.show()"
   ]
  },
  {
   "cell_type": "code",
   "execution_count": 34,
   "id": "c9bca6c2",
   "metadata": {},
   "outputs": [],
   "source": [
    "# M에서 사망율이 높았던 건 3등급의 사람이 많아서였음\n",
    "# Deck라는 컬럼이 생존/사망에 크게 영향을 주고 있는 것은 아니다\n",
    "# 오히려 Pclass는 영향을 크게 미치고 있다"
   ]
  },
  {
   "cell_type": "code",
   "execution_count": 35,
   "id": "2d6525d7",
   "metadata": {},
   "outputs": [
    {
     "data": {
      "image/png": "[encoded data removed]",
      "text/plain": [
       "<Figure size 600x300 with 1 Axes>"
      ]
     },
     "metadata": {},
     "output_type": "display_data"
    }
   ],
   "source": [
    "# Sex와 Survived의 시각화\n",
    "\n",
    "plt.figure(figsize=(6,3))\n",
    "\n",
    "sns.countplot(data=train, x='Sex', hue='Survived')\n",
    "\n",
    "plt.show() # 레이디 펄스트라 여성이 살 확률이 더 높았음"
   ]
  },
  {
   "cell_type": "code",
   "execution_count": 36,
   "id": "d0db1689",
   "metadata": {},
   "outputs": [],
   "source": [
    "# 남성은 상대적으로 사망율이 높음\n",
    "# 여성은 상대적으로 생존율이 높음\n",
    "# 생존/사망을 판별하는데 성별은 도움이 되겠다"
   ]
  },
  {
   "cell_type": "code",
   "execution_count": 37,
   "id": "de1deb8c",
   "metadata": {
    "scrolled": true
   },
   "outputs": [
    {
     "data": {
      "image/png": "[encoded data removed]",
      "text/plain": [
       "<Figure size 600x300 with 1 Axes>"
      ]
     },
     "metadata": {},
     "output_type": "display_data"
    }
   ],
   "source": [
    "# Embarked와 Survived의 관계 시각화\n",
    "\n",
    "plt.figure(figsize=(6,3))\n",
    "\n",
    "sns.countplot(data=train, x='Embarked', hue='Survived')\n",
    "\n",
    "plt.show()"
   ]
  },
  {
   "cell_type": "code",
   "execution_count": 38,
   "id": "806d96a4",
   "metadata": {},
   "outputs": [],
   "source": [
    "# 승선항이 생존과 사망에 영향을 미쳤는지 아닌지 확고한 증거가 없다."
   ]
  }
 ],
 "metadata": {
  "kernelspec": {
   "display_name": "Python 3 (ipykernel)",
   "language": "python",
   "name": "python3"
  },
  "language_info": {
   "codemirror_mode": {
    "name": "ipython",
    "version": 3
   },
   "file_extension": ".py",
   "mimetype": "text/x-python",
   "name": "python",
   "nbconvert_exporter": "python",
   "pygments_lexer": "ipython3",
   "version": "3.11.5"
  }
 },
 "nbformat": 4,
 "nbformat_minor": 5
}
