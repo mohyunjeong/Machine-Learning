{
 "cells": [
  {
   "cell_type": "markdown",
   "id": "6c7fb6f1",
   "metadata": {},
   "source": [
    "### ✅ 목표\n",
    " - 500 명의 키와 몸무게, 비만도 라벨을 활용하여 비만을 판단하는 모델을 만들어보자\n",
    " - 머신러닝의 과정\n",
    "     1. 문제 정의\n",
    "     2. 데이터 수집\n",
    "     3. 데이터 전처리\n",
    "     4. 탐색적 데이터 분석(EDA)\n",
    "     5. 머신러닝 모델 선택, 하이퍼 파라미터(사람이 지정하는 매개변수) 조정\n",
    "     6. 모델 학습\n",
    "     7. 모델 평가 및 예측"
   ]
  },
  {
   "cell_type": "code",
   "execution_count": 1,
   "id": "49491ea0",
   "metadata": {},
   "outputs": [],
   "source": [
    "# 필요한 도구 불러오기\n",
    "\n",
    "import numpy as np\n",
    "import pandas as pd\n",
    "import matplotlib.pyplot as plt\n",
    "\n",
    "# 모델 불러오기\n",
    "\n",
    "from sklearn.neighbors import KNeighborsClassifier # knn 분류 모델\n",
    "\n",
    "# 모델 성능 평가 지표 (평가 도구)\n",
    "\n",
    "from sklearn.metrics import accuracy_score # 정확도 평가 도구"
   ]
  },
  {
   "cell_type": "markdown",
   "id": "aa3a10c7",
   "metadata": {},
   "source": [
    "- ✅ 데이터 준비(불러오기)"
   ]
  },
  {
   "cell_type": "code",
   "execution_count": 2,
   "id": "f6b9222c",
   "metadata": {},
   "outputs": [
    {
     "data": {
      "text/html": [
       "<div>\n",
       "<style scoped>\n",
       "    .dataframe tbody tr th:only-of-type {\n",
       "        vertical-align: middle;\n",
       "    }\n",
       "\n",
       "    .dataframe tbody tr th {\n",
       "        vertical-align: top;\n",
       "    }\n",
       "\n",
       "    .dataframe thead th {\n",
       "        text-align: right;\n",
       "    }\n",
       "</style>\n",
       "<table border=\"1\" class=\"dataframe\">\n",
       "  <thead>\n",
       "    <tr style=\"text-align: right;\">\n",
       "      <th></th>\n",
       "      <th>Gender</th>\n",
       "      <th>Height</th>\n",
       "      <th>Weight</th>\n",
       "      <th>Label</th>\n",
       "    </tr>\n",
       "  </thead>\n",
       "  <tbody>\n",
       "    <tr>\n",
       "      <th>0</th>\n",
       "      <td>Male</td>\n",
       "      <td>174</td>\n",
       "      <td>96</td>\n",
       "      <td>Obesity</td>\n",
       "    </tr>\n",
       "    <tr>\n",
       "      <th>1</th>\n",
       "      <td>Male</td>\n",
       "      <td>189</td>\n",
       "      <td>87</td>\n",
       "      <td>Normal</td>\n",
       "    </tr>\n",
       "    <tr>\n",
       "      <th>2</th>\n",
       "      <td>Female</td>\n",
       "      <td>185</td>\n",
       "      <td>110</td>\n",
       "      <td>Obesity</td>\n",
       "    </tr>\n",
       "    <tr>\n",
       "      <th>3</th>\n",
       "      <td>Female</td>\n",
       "      <td>195</td>\n",
       "      <td>104</td>\n",
       "      <td>Overweight</td>\n",
       "    </tr>\n",
       "    <tr>\n",
       "      <th>4</th>\n",
       "      <td>Male</td>\n",
       "      <td>149</td>\n",
       "      <td>61</td>\n",
       "      <td>Overweight</td>\n",
       "    </tr>\n",
       "    <tr>\n",
       "      <th>...</th>\n",
       "      <td>...</td>\n",
       "      <td>...</td>\n",
       "      <td>...</td>\n",
       "      <td>...</td>\n",
       "    </tr>\n",
       "    <tr>\n",
       "      <th>495</th>\n",
       "      <td>Female</td>\n",
       "      <td>150</td>\n",
       "      <td>153</td>\n",
       "      <td>Extreme Obesity</td>\n",
       "    </tr>\n",
       "    <tr>\n",
       "      <th>496</th>\n",
       "      <td>Female</td>\n",
       "      <td>184</td>\n",
       "      <td>121</td>\n",
       "      <td>Obesity</td>\n",
       "    </tr>\n",
       "    <tr>\n",
       "      <th>497</th>\n",
       "      <td>Female</td>\n",
       "      <td>141</td>\n",
       "      <td>136</td>\n",
       "      <td>Extreme Obesity</td>\n",
       "    </tr>\n",
       "    <tr>\n",
       "      <th>498</th>\n",
       "      <td>Male</td>\n",
       "      <td>150</td>\n",
       "      <td>95</td>\n",
       "      <td>Extreme Obesity</td>\n",
       "    </tr>\n",
       "    <tr>\n",
       "      <th>499</th>\n",
       "      <td>Male</td>\n",
       "      <td>173</td>\n",
       "      <td>131</td>\n",
       "      <td>Extreme Obesity</td>\n",
       "    </tr>\n",
       "  </tbody>\n",
       "</table>\n",
       "<p>500 rows × 4 columns</p>\n",
       "</div>"
      ],
      "text/plain": [
       "     Gender  Height  Weight            Label\n",
       "0      Male     174      96          Obesity\n",
       "1      Male     189      87           Normal\n",
       "2    Female     185     110          Obesity\n",
       "3    Female     195     104       Overweight\n",
       "4      Male     149      61       Overweight\n",
       "..      ...     ...     ...              ...\n",
       "495  Female     150     153  Extreme Obesity\n",
       "496  Female     184     121          Obesity\n",
       "497  Female     141     136  Extreme Obesity\n",
       "498    Male     150      95  Extreme Obesity\n",
       "499    Male     173     131  Extreme Obesity\n",
       "\n",
       "[500 rows x 4 columns]"
      ]
     },
     "execution_count": 2,
     "metadata": {},
     "output_type": "execute_result"
    }
   ],
   "source": [
    "data = pd.read_csv('./data/bmi_500.csv')\n",
    "data"
   ]
  },
  {
   "cell_type": "code",
   "execution_count": 5,
   "id": "43c62fa7",
   "metadata": {},
   "outputs": [
    {
     "data": {
      "text/html": [
       "<div>\n",
       "<style scoped>\n",
       "    .dataframe tbody tr th:only-of-type {\n",
       "        vertical-align: middle;\n",
       "    }\n",
       "\n",
       "    .dataframe tbody tr th {\n",
       "        vertical-align: top;\n",
       "    }\n",
       "\n",
       "    .dataframe thead th {\n",
       "        text-align: right;\n",
       "    }\n",
       "</style>\n",
       "<table border=\"1\" class=\"dataframe\">\n",
       "  <thead>\n",
       "    <tr style=\"text-align: right;\">\n",
       "      <th></th>\n",
       "      <th>Gender</th>\n",
       "      <th>Height</th>\n",
       "      <th>Weight</th>\n",
       "      <th>Label</th>\n",
       "    </tr>\n",
       "  </thead>\n",
       "  <tbody>\n",
       "    <tr>\n",
       "      <th>0</th>\n",
       "      <td>Male</td>\n",
       "      <td>174</td>\n",
       "      <td>96</td>\n",
       "      <td>Obesity</td>\n",
       "    </tr>\n",
       "    <tr>\n",
       "      <th>1</th>\n",
       "      <td>Male</td>\n",
       "      <td>189</td>\n",
       "      <td>87</td>\n",
       "      <td>Normal</td>\n",
       "    </tr>\n",
       "    <tr>\n",
       "      <th>2</th>\n",
       "      <td>Female</td>\n",
       "      <td>185</td>\n",
       "      <td>110</td>\n",
       "      <td>Obesity</td>\n",
       "    </tr>\n",
       "    <tr>\n",
       "      <th>3</th>\n",
       "      <td>Female</td>\n",
       "      <td>195</td>\n",
       "      <td>104</td>\n",
       "      <td>Overweight</td>\n",
       "    </tr>\n",
       "    <tr>\n",
       "      <th>4</th>\n",
       "      <td>Male</td>\n",
       "      <td>149</td>\n",
       "      <td>61</td>\n",
       "      <td>Overweight</td>\n",
       "    </tr>\n",
       "  </tbody>\n",
       "</table>\n",
       "</div>"
      ],
      "text/plain": [
       "   Gender  Height  Weight       Label\n",
       "0    Male     174      96     Obesity\n",
       "1    Male     189      87      Normal\n",
       "2  Female     185     110     Obesity\n",
       "3  Female     195     104  Overweight\n",
       "4    Male     149      61  Overweight"
      ]
     },
     "metadata": {},
     "output_type": "display_data"
    },
    {
     "data": {
      "text/html": [
       "<div>\n",
       "<style scoped>\n",
       "    .dataframe tbody tr th:only-of-type {\n",
       "        vertical-align: middle;\n",
       "    }\n",
       "\n",
       "    .dataframe tbody tr th {\n",
       "        vertical-align: top;\n",
       "    }\n",
       "\n",
       "    .dataframe thead th {\n",
       "        text-align: right;\n",
       "    }\n",
       "</style>\n",
       "<table border=\"1\" class=\"dataframe\">\n",
       "  <thead>\n",
       "    <tr style=\"text-align: right;\">\n",
       "      <th></th>\n",
       "      <th>Gender</th>\n",
       "      <th>Height</th>\n",
       "      <th>Weight</th>\n",
       "      <th>Label</th>\n",
       "    </tr>\n",
       "  </thead>\n",
       "  <tbody>\n",
       "    <tr>\n",
       "      <th>495</th>\n",
       "      <td>Female</td>\n",
       "      <td>150</td>\n",
       "      <td>153</td>\n",
       "      <td>Extreme Obesity</td>\n",
       "    </tr>\n",
       "    <tr>\n",
       "      <th>496</th>\n",
       "      <td>Female</td>\n",
       "      <td>184</td>\n",
       "      <td>121</td>\n",
       "      <td>Obesity</td>\n",
       "    </tr>\n",
       "    <tr>\n",
       "      <th>497</th>\n",
       "      <td>Female</td>\n",
       "      <td>141</td>\n",
       "      <td>136</td>\n",
       "      <td>Extreme Obesity</td>\n",
       "    </tr>\n",
       "    <tr>\n",
       "      <th>498</th>\n",
       "      <td>Male</td>\n",
       "      <td>150</td>\n",
       "      <td>95</td>\n",
       "      <td>Extreme Obesity</td>\n",
       "    </tr>\n",
       "    <tr>\n",
       "      <th>499</th>\n",
       "      <td>Male</td>\n",
       "      <td>173</td>\n",
       "      <td>131</td>\n",
       "      <td>Extreme Obesity</td>\n",
       "    </tr>\n",
       "  </tbody>\n",
       "</table>\n",
       "</div>"
      ],
      "text/plain": [
       "     Gender  Height  Weight            Label\n",
       "495  Female     150     153  Extreme Obesity\n",
       "496  Female     184     121          Obesity\n",
       "497  Female     141     136  Extreme Obesity\n",
       "498    Male     150      95  Extreme Obesity\n",
       "499    Male     173     131  Extreme Obesity"
      ]
     },
     "metadata": {},
     "output_type": "display_data"
    },
    {
     "name": "stdout",
     "output_type": "stream",
     "text": [
      "(500, 4)\n",
      "2\n",
      "<class 'pandas.core.frame.DataFrame'>\n",
      "RangeIndex: 500 entries, 0 to 499\n",
      "Data columns (total 4 columns):\n",
      " #   Column  Non-Null Count  Dtype \n",
      "---  ------  --------------  ----- \n",
      " 0   Gender  500 non-null    object\n",
      " 1   Height  500 non-null    int64 \n",
      " 2   Weight  500 non-null    int64 \n",
      " 3   Label   500 non-null    object\n",
      "dtypes: int64(2), object(2)\n",
      "memory usage: 15.8+ KB\n"
     ]
    },
    {
     "data": {
      "text/plain": [
       "None"
      ]
     },
     "metadata": {},
     "output_type": "display_data"
    }
   ],
   "source": [
    "# DataFrame 출력 도구 : display()\n",
    "\n",
    "# 1. 위에서부터 5개 출력\n",
    "\n",
    "display(data.head())\n",
    "\n",
    "# 2. 밑에서부터 5개 출력\n",
    "\n",
    "display(data.tail())\n",
    "\n",
    "# 3. 데이터 크기 정보 확인\n",
    "\n",
    "print(data.shape) # (500, 4)\n",
    "\n",
    "# 4. 데이터 차원 확인\n",
    "\n",
    "print(data.ndim) # 2\n",
    "\n",
    "# 5. 데이터 정보 확인 --> (컬럼 명, 컬럼 개수, 행의 개수, 결측치 여부, 데이터 타입)\n",
    "\n",
    "display(data.info())"
   ]
  },
  {
   "cell_type": "markdown",
   "id": "9a127c16",
   "metadata": {},
   "source": [
    "- ✅ 데이터 전처리"
   ]
  },
  {
   "cell_type": "code",
   "execution_count": 6,
   "id": "dc9d4205",
   "metadata": {},
   "outputs": [
    {
     "data": {
      "text/html": [
       "<div>\n",
       "<style scoped>\n",
       "    .dataframe tbody tr th:only-of-type {\n",
       "        vertical-align: middle;\n",
       "    }\n",
       "\n",
       "    .dataframe tbody tr th {\n",
       "        vertical-align: top;\n",
       "    }\n",
       "\n",
       "    .dataframe thead th {\n",
       "        text-align: right;\n",
       "    }\n",
       "</style>\n",
       "<table border=\"1\" class=\"dataframe\">\n",
       "  <thead>\n",
       "    <tr style=\"text-align: right;\">\n",
       "      <th></th>\n",
       "      <th>Gender</th>\n",
       "      <th>Height</th>\n",
       "      <th>Weight</th>\n",
       "      <th>Label</th>\n",
       "    </tr>\n",
       "  </thead>\n",
       "  <tbody>\n",
       "    <tr>\n",
       "      <th>495</th>\n",
       "      <td>Female</td>\n",
       "      <td>150</td>\n",
       "      <td>153</td>\n",
       "      <td>Extreme Obesity</td>\n",
       "    </tr>\n",
       "    <tr>\n",
       "      <th>496</th>\n",
       "      <td>Female</td>\n",
       "      <td>184</td>\n",
       "      <td>121</td>\n",
       "      <td>Obesity</td>\n",
       "    </tr>\n",
       "    <tr>\n",
       "      <th>497</th>\n",
       "      <td>Female</td>\n",
       "      <td>141</td>\n",
       "      <td>136</td>\n",
       "      <td>Extreme Obesity</td>\n",
       "    </tr>\n",
       "    <tr>\n",
       "      <th>498</th>\n",
       "      <td>Male</td>\n",
       "      <td>150</td>\n",
       "      <td>95</td>\n",
       "      <td>Extreme Obesity</td>\n",
       "    </tr>\n",
       "    <tr>\n",
       "      <th>499</th>\n",
       "      <td>Male</td>\n",
       "      <td>173</td>\n",
       "      <td>131</td>\n",
       "      <td>Extreme Obesity</td>\n",
       "    </tr>\n",
       "  </tbody>\n",
       "</table>\n",
       "</div>"
      ],
      "text/plain": [
       "     Gender  Height  Weight            Label\n",
       "495  Female     150     153  Extreme Obesity\n",
       "496  Female     184     121          Obesity\n",
       "497  Female     141     136  Extreme Obesity\n",
       "498    Male     150      95  Extreme Obesity\n",
       "499    Male     173     131  Extreme Obesity"
      ]
     },
     "execution_count": 6,
     "metadata": {},
     "output_type": "execute_result"
    }
   ],
   "source": [
    "data.tail()"
   ]
  },
  {
   "cell_type": "code",
   "execution_count": 9,
   "id": "8214ea41",
   "metadata": {},
   "outputs": [
    {
     "name": "stdout",
     "output_type": "stream",
     "text": [
      "문제 데이터 :  (500, 2)\n",
      "답 데이터 :  (500,)\n"
     ]
    }
   ],
   "source": [
    "X = data.loc[:, ['Height', 'Weight']] # 문제 데이터 (키, 몸무게)\n",
    "# data.loc[:, 'Height':'Weight']\n",
    "\n",
    "y = data['Label'] # 답 (라벨)\n",
    "\n",
    "print('문제 데이터 : ', X.shape)\n",
    "print('답 데이터 : ', y.shape)"
   ]
  },
  {
   "cell_type": "code",
   "execution_count": 10,
   "id": "920cfd5d",
   "metadata": {},
   "outputs": [
    {
     "name": "stdout",
     "output_type": "stream",
     "text": [
      "훈련 문제 :  (350, 2)\n",
      "훈련 답 :  (350,)\n",
      "테스트 문제 :  (150, 2)\n",
      "테스트 답 :  (150,)\n"
     ]
    }
   ],
   "source": [
    "# 훈련 세트와 테스트 세트로 행 분리\n",
    "# 머신러닝 훈련 데이터 셋\n",
    "# 학습이 잘 됐는지 확인하기 위한 테스트 데이터 셋\n",
    "# 훈련 : 테스트 --> 7:3\n",
    "# 0 ~ 349 (처음부터 350 개) : train\n",
    "# 350 ~ (350 번부터 끝까지 = 150 개) : test\n",
    "# iloc 행 분리\n",
    "\n",
    "X_train = X.iloc[:350]\n",
    "X_test = X.iloc[350:]\n",
    "y_train = y.iloc[:350]\n",
    "y_test = y.iloc[350:]\n",
    "\n",
    "print('훈련 문제 : ', X_train.shape)\n",
    "print('훈련 답 : ', y_train.shape)\n",
    "print('테스트 문제 : ', X_test.shape)\n",
    "print('테스트 답 : ', y_test.shape)"
   ]
  },
  {
   "cell_type": "markdown",
   "id": "48fd128c",
   "metadata": {},
   "source": [
    "#### ✅ 모델링\n",
    "- 모델 객체 생성\n",
    "- 모델 학습\n",
    "- 모델 평가 및 예측"
   ]
  },
  {
   "cell_type": "code",
   "execution_count": 26,
   "id": "9b8fad1c",
   "metadata": {},
   "outputs": [],
   "source": [
    "# 내 ver\n",
    "# n_neighbors = 3\n",
    "# knn 분류 모델 사용하기\n",
    "\n",
    "knn_model = KNeighborsClassifier(n_neighbors = 3)"
   ]
  },
  {
   "cell_type": "code",
   "execution_count": 27,
   "id": "79a40baf",
   "metadata": {},
   "outputs": [
    {
     "data": {
      "text/html": [
       "<style>#sk-container-id-4 {color: black;}#sk-container-id-4 pre{padding: 0;}#sk-container-id-4 div.sk-toggleable {background-color: white;}#sk-container-id-4 label.sk-toggleable__label {cursor: pointer;display: block;width: 100%;margin-bottom: 0;padding: 0.3em;box-sizing: border-box;text-align: center;}#sk-container-id-4 label.sk-toggleable__label-arrow:before {content: \"▸\";float: left;margin-right: 0.25em;color: #696969;}#sk-container-id-4 label.sk-toggleable__label-arrow:hover:before {color: black;}#sk-container-id-4 div.sk-estimator:hover label.sk-toggleable__label-arrow:before {color: black;}#sk-container-id-4 div.sk-toggleable__content {max-height: 0;max-width: 0;overflow: hidden;text-align: left;background-color: #f0f8ff;}#sk-container-id-4 div.sk-toggleable__content pre {margin: 0.2em;color: black;border-radius: 0.25em;background-color: #f0f8ff;}#sk-container-id-4 input.sk-toggleable__control:checked~div.sk-toggleable__content {max-height: 200px;max-width: 100%;overflow: auto;}#sk-container-id-4 input.sk-toggleable__control:checked~label.sk-toggleable__label-arrow:before {content: \"▾\";}#sk-container-id-4 div.sk-estimator input.sk-toggleable__control:checked~label.sk-toggleable__label {background-color: #d4ebff;}#sk-container-id-4 div.sk-label input.sk-toggleable__control:checked~label.sk-toggleable__label {background-color: #d4ebff;}#sk-container-id-4 input.sk-hidden--visually {border: 0;clip: rect(1px 1px 1px 1px);clip: rect(1px, 1px, 1px, 1px);height: 1px;margin: -1px;overflow: hidden;padding: 0;position: absolute;width: 1px;}#sk-container-id-4 div.sk-estimator {font-family: monospace;background-color: #f0f8ff;border: 1px dotted black;border-radius: 0.25em;box-sizing: border-box;margin-bottom: 0.5em;}#sk-container-id-4 div.sk-estimator:hover {background-color: #d4ebff;}#sk-container-id-4 div.sk-parallel-item::after {content: \"\";width: 100%;border-bottom: 1px solid gray;flex-grow: 1;}#sk-container-id-4 div.sk-label:hover label.sk-toggleable__label {background-color: #d4ebff;}#sk-container-id-4 div.sk-serial::before {content: \"\";position: absolute;border-left: 1px solid gray;box-sizing: border-box;top: 0;bottom: 0;left: 50%;z-index: 0;}#sk-container-id-4 div.sk-serial {display: flex;flex-direction: column;align-items: center;background-color: white;padding-right: 0.2em;padding-left: 0.2em;position: relative;}#sk-container-id-4 div.sk-item {position: relative;z-index: 1;}#sk-container-id-4 div.sk-parallel {display: flex;align-items: stretch;justify-content: center;background-color: white;position: relative;}#sk-container-id-4 div.sk-item::before, #sk-container-id-4 div.sk-parallel-item::before {content: \"\";position: absolute;border-left: 1px solid gray;box-sizing: border-box;top: 0;bottom: 0;left: 50%;z-index: -1;}#sk-container-id-4 div.sk-parallel-item {display: flex;flex-direction: column;z-index: 1;position: relative;background-color: white;}#sk-container-id-4 div.sk-parallel-item:first-child::after {align-self: flex-end;width: 50%;}#sk-container-id-4 div.sk-parallel-item:last-child::after {align-self: flex-start;width: 50%;}#sk-container-id-4 div.sk-parallel-item:only-child::after {width: 0;}#sk-container-id-4 div.sk-dashed-wrapped {border: 1px dashed gray;margin: 0 0.4em 0.5em 0.4em;box-sizing: border-box;padding-bottom: 0.4em;background-color: white;}#sk-container-id-4 div.sk-label label {font-family: monospace;font-weight: bold;display: inline-block;line-height: 1.2em;}#sk-container-id-4 div.sk-label-container {text-align: center;}#sk-container-id-4 div.sk-container {/* jupyter's `normalize.less` sets `[hidden] { display: none; }` but bootstrap.min.css set `[hidden] { display: none !important; }` so we also need the `!important` here to be able to override the default hidden behavior on the sphinx rendered scikit-learn.org. See: https://github.com/scikit-learn/scikit-learn/issues/21755 */display: inline-block !important;position: relative;}#sk-container-id-4 div.sk-text-repr-fallback {display: none;}</style><div id=\"sk-container-id-4\" class=\"sk-top-container\"><div class=\"sk-text-repr-fallback\"><pre>KNeighborsClassifier(n_neighbors=3)</pre><b>In a Jupyter environment, please rerun this cell to show the HTML representation or trust the notebook. <br />On GitHub, the HTML representation is unable to render, please try loading this page with nbviewer.org.</b></div><div class=\"sk-container\" hidden><div class=\"sk-item\"><div class=\"sk-estimator sk-toggleable\"><input class=\"sk-toggleable__control sk-hidden--visually\" id=\"sk-estimator-id-4\" type=\"checkbox\" checked><label for=\"sk-estimator-id-4\" class=\"sk-toggleable__label sk-toggleable__label-arrow\">KNeighborsClassifier</label><div class=\"sk-toggleable__content\"><pre>KNeighborsClassifier(n_neighbors=3)</pre></div></div></div></div></div>"
      ],
      "text/plain": [
       "KNeighborsClassifier(n_neighbors=3)"
      ]
     },
     "execution_count": 27,
     "metadata": {},
     "output_type": "execute_result"
    }
   ],
   "source": [
    "knn_model.fit(X_train, y_train)"
   ]
  },
  {
   "cell_type": "code",
   "execution_count": 28,
   "id": "e6bf346a",
   "metadata": {
    "scrolled": false
   },
   "outputs": [
    {
     "data": {
      "text/html": [
       "<div>\n",
       "<style scoped>\n",
       "    .dataframe tbody tr th:only-of-type {\n",
       "        vertical-align: middle;\n",
       "    }\n",
       "\n",
       "    .dataframe tbody tr th {\n",
       "        vertical-align: top;\n",
       "    }\n",
       "\n",
       "    .dataframe thead th {\n",
       "        text-align: right;\n",
       "    }\n",
       "</style>\n",
       "<table border=\"1\" class=\"dataframe\">\n",
       "  <thead>\n",
       "    <tr style=\"text-align: right;\">\n",
       "      <th></th>\n",
       "      <th>Height</th>\n",
       "      <th>Weight</th>\n",
       "    </tr>\n",
       "  </thead>\n",
       "  <tbody>\n",
       "    <tr>\n",
       "      <th>350</th>\n",
       "      <td>184</td>\n",
       "      <td>83</td>\n",
       "    </tr>\n",
       "    <tr>\n",
       "      <th>351</th>\n",
       "      <td>197</td>\n",
       "      <td>88</td>\n",
       "    </tr>\n",
       "    <tr>\n",
       "      <th>352</th>\n",
       "      <td>160</td>\n",
       "      <td>51</td>\n",
       "    </tr>\n",
       "    <tr>\n",
       "      <th>353</th>\n",
       "      <td>184</td>\n",
       "      <td>153</td>\n",
       "    </tr>\n",
       "    <tr>\n",
       "      <th>354</th>\n",
       "      <td>190</td>\n",
       "      <td>50</td>\n",
       "    </tr>\n",
       "    <tr>\n",
       "      <th>...</th>\n",
       "      <td>...</td>\n",
       "      <td>...</td>\n",
       "    </tr>\n",
       "    <tr>\n",
       "      <th>495</th>\n",
       "      <td>150</td>\n",
       "      <td>153</td>\n",
       "    </tr>\n",
       "    <tr>\n",
       "      <th>496</th>\n",
       "      <td>184</td>\n",
       "      <td>121</td>\n",
       "    </tr>\n",
       "    <tr>\n",
       "      <th>497</th>\n",
       "      <td>141</td>\n",
       "      <td>136</td>\n",
       "    </tr>\n",
       "    <tr>\n",
       "      <th>498</th>\n",
       "      <td>150</td>\n",
       "      <td>95</td>\n",
       "    </tr>\n",
       "    <tr>\n",
       "      <th>499</th>\n",
       "      <td>173</td>\n",
       "      <td>131</td>\n",
       "    </tr>\n",
       "  </tbody>\n",
       "</table>\n",
       "<p>150 rows × 2 columns</p>\n",
       "</div>"
      ],
      "text/plain": [
       "     Height  Weight\n",
       "350     184      83\n",
       "351     197      88\n",
       "352     160      51\n",
       "353     184     153\n",
       "354     190      50\n",
       "..      ...     ...\n",
       "495     150     153\n",
       "496     184     121\n",
       "497     141     136\n",
       "498     150      95\n",
       "499     173     131\n",
       "\n",
       "[150 rows x 2 columns]"
      ]
     },
     "execution_count": 28,
     "metadata": {},
     "output_type": "execute_result"
    }
   ],
   "source": [
    "X_test"
   ]
  },
  {
   "cell_type": "code",
   "execution_count": 29,
   "id": "8072637b",
   "metadata": {
    "scrolled": true
   },
   "outputs": [
    {
     "data": {
      "text/plain": [
       "array(['Overweight', 'Normal', 'Normal', 'Extreme Obesity',\n",
       "       'Extremely Weak', 'Normal', 'Obesity', 'Extreme Obesity', 'Normal',\n",
       "       'Extreme Obesity', 'Weak', 'Extreme Obesity', 'Extreme Obesity',\n",
       "       'Obesity', 'Extreme Obesity', 'Extreme Obesity', 'Overweight',\n",
       "       'Obesity', 'Extreme Obesity', 'Obesity', 'Overweight',\n",
       "       'Extreme Obesity', 'Weak', 'Normal', 'Obesity', 'Extreme Obesity',\n",
       "       'Extreme Obesity', 'Extreme Obesity', 'Obesity', 'Overweight',\n",
       "       'Extreme Obesity', 'Weak', 'Obesity', 'Extreme Obesity',\n",
       "       'Extreme Obesity', 'Weak', 'Extreme Obesity', 'Obesity',\n",
       "       'Overweight', 'Normal', 'Normal', 'Normal', 'Normal', 'Overweight',\n",
       "       'Extreme Obesity', 'Overweight', 'Overweight', 'Extreme Obesity',\n",
       "       'Overweight', 'Extreme Obesity', 'Overweight', 'Obesity', 'Normal',\n",
       "       'Obesity', 'Obesity', 'Extreme Obesity', 'Normal',\n",
       "       'Extreme Obesity', 'Extreme Obesity', 'Extreme Obesity', 'Weak',\n",
       "       'Obesity', 'Extreme Obesity', 'Extreme Obesity', 'Extreme Obesity',\n",
       "       'Obesity', 'Extreme Obesity', 'Normal', 'Extreme Obesity',\n",
       "       'Normal', 'Weak', 'Extreme Obesity', 'Extreme Obesity', 'Obesity',\n",
       "       'Weak', 'Normal', 'Extreme Obesity', 'Obesity', 'Obesity',\n",
       "       'Obesity', 'Overweight', 'Extreme Obesity', 'Extreme Obesity',\n",
       "       'Extreme Obesity', 'Normal', 'Extreme Obesity', 'Extreme Obesity',\n",
       "       'Extreme Obesity', 'Weak', 'Extreme Obesity', 'Obesity', 'Normal',\n",
       "       'Extreme Obesity', 'Extreme Obesity', 'Obesity', 'Extreme Obesity',\n",
       "       'Obesity', 'Obesity', 'Extreme Obesity', 'Extreme Obesity',\n",
       "       'Extreme Obesity', 'Normal', 'Extreme Obesity', 'Extremely Weak',\n",
       "       'Normal', 'Overweight', 'Obesity', 'Overweight', 'Obesity',\n",
       "       'Extreme Obesity', 'Obesity', 'Extreme Obesity', 'Weak',\n",
       "       'Extreme Obesity', 'Normal', 'Extreme Obesity', 'Overweight',\n",
       "       'Extreme Obesity', 'Extreme Obesity', 'Overweight',\n",
       "       'Extreme Obesity', 'Extreme Obesity', 'Normal', 'Obesity',\n",
       "       'Overweight', 'Obesity', 'Extreme Obesity', 'Normal', 'Normal',\n",
       "       'Extreme Obesity', 'Extreme Obesity', 'Obesity', 'Extreme Obesity',\n",
       "       'Obesity', 'Obesity', 'Obesity', 'Extreme Obesity', 'Normal',\n",
       "       'Obesity', 'Extreme Obesity', 'Normal', 'Extreme Obesity',\n",
       "       'Extremely Weak', 'Weak', 'Extreme Obesity', 'Extreme Obesity',\n",
       "       'Obesity', 'Extreme Obesity', 'Extreme Obesity', 'Extreme Obesity'],\n",
       "      dtype=object)"
      ]
     },
     "execution_count": 29,
     "metadata": {},
     "output_type": "execute_result"
    }
   ],
   "source": [
    "knn_model.predict(X_test)"
   ]
  },
  {
   "cell_type": "code",
   "execution_count": 30,
   "id": "ba4cb20e",
   "metadata": {},
   "outputs": [
    {
     "data": {
      "text/plain": [
       "0.9"
      ]
     },
     "execution_count": 30,
     "metadata": {},
     "output_type": "execute_result"
    }
   ],
   "source": [
    "knn_model.score(X_test, y_test)"
   ]
  },
  {
   "cell_type": "code",
   "execution_count": 32,
   "id": "9fcc661b",
   "metadata": {},
   "outputs": [],
   "source": [
    "# 선생님 ver\n",
    "# n_neighbors = n\n",
    "# knn 분류 모델 사용하기\n",
    "\n",
    "knn_model = KNeighborsClassifier(n_neighbors = 100)"
   ]
  },
  {
   "cell_type": "code",
   "execution_count": 34,
   "id": "765fcc5b",
   "metadata": {},
   "outputs": [
    {
     "data": {
      "text/html": [
       "<style>#sk-container-id-5 {color: black;}#sk-container-id-5 pre{padding: 0;}#sk-container-id-5 div.sk-toggleable {background-color: white;}#sk-container-id-5 label.sk-toggleable__label {cursor: pointer;display: block;width: 100%;margin-bottom: 0;padding: 0.3em;box-sizing: border-box;text-align: center;}#sk-container-id-5 label.sk-toggleable__label-arrow:before {content: \"▸\";float: left;margin-right: 0.25em;color: #696969;}#sk-container-id-5 label.sk-toggleable__label-arrow:hover:before {color: black;}#sk-container-id-5 div.sk-estimator:hover label.sk-toggleable__label-arrow:before {color: black;}#sk-container-id-5 div.sk-toggleable__content {max-height: 0;max-width: 0;overflow: hidden;text-align: left;background-color: #f0f8ff;}#sk-container-id-5 div.sk-toggleable__content pre {margin: 0.2em;color: black;border-radius: 0.25em;background-color: #f0f8ff;}#sk-container-id-5 input.sk-toggleable__control:checked~div.sk-toggleable__content {max-height: 200px;max-width: 100%;overflow: auto;}#sk-container-id-5 input.sk-toggleable__control:checked~label.sk-toggleable__label-arrow:before {content: \"▾\";}#sk-container-id-5 div.sk-estimator input.sk-toggleable__control:checked~label.sk-toggleable__label {background-color: #d4ebff;}#sk-container-id-5 div.sk-label input.sk-toggleable__control:checked~label.sk-toggleable__label {background-color: #d4ebff;}#sk-container-id-5 input.sk-hidden--visually {border: 0;clip: rect(1px 1px 1px 1px);clip: rect(1px, 1px, 1px, 1px);height: 1px;margin: -1px;overflow: hidden;padding: 0;position: absolute;width: 1px;}#sk-container-id-5 div.sk-estimator {font-family: monospace;background-color: #f0f8ff;border: 1px dotted black;border-radius: 0.25em;box-sizing: border-box;margin-bottom: 0.5em;}#sk-container-id-5 div.sk-estimator:hover {background-color: #d4ebff;}#sk-container-id-5 div.sk-parallel-item::after {content: \"\";width: 100%;border-bottom: 1px solid gray;flex-grow: 1;}#sk-container-id-5 div.sk-label:hover label.sk-toggleable__label {background-color: #d4ebff;}#sk-container-id-5 div.sk-serial::before {content: \"\";position: absolute;border-left: 1px solid gray;box-sizing: border-box;top: 0;bottom: 0;left: 50%;z-index: 0;}#sk-container-id-5 div.sk-serial {display: flex;flex-direction: column;align-items: center;background-color: white;padding-right: 0.2em;padding-left: 0.2em;position: relative;}#sk-container-id-5 div.sk-item {position: relative;z-index: 1;}#sk-container-id-5 div.sk-parallel {display: flex;align-items: stretch;justify-content: center;background-color: white;position: relative;}#sk-container-id-5 div.sk-item::before, #sk-container-id-5 div.sk-parallel-item::before {content: \"\";position: absolute;border-left: 1px solid gray;box-sizing: border-box;top: 0;bottom: 0;left: 50%;z-index: -1;}#sk-container-id-5 div.sk-parallel-item {display: flex;flex-direction: column;z-index: 1;position: relative;background-color: white;}#sk-container-id-5 div.sk-parallel-item:first-child::after {align-self: flex-end;width: 50%;}#sk-container-id-5 div.sk-parallel-item:last-child::after {align-self: flex-start;width: 50%;}#sk-container-id-5 div.sk-parallel-item:only-child::after {width: 0;}#sk-container-id-5 div.sk-dashed-wrapped {border: 1px dashed gray;margin: 0 0.4em 0.5em 0.4em;box-sizing: border-box;padding-bottom: 0.4em;background-color: white;}#sk-container-id-5 div.sk-label label {font-family: monospace;font-weight: bold;display: inline-block;line-height: 1.2em;}#sk-container-id-5 div.sk-label-container {text-align: center;}#sk-container-id-5 div.sk-container {/* jupyter's `normalize.less` sets `[hidden] { display: none; }` but bootstrap.min.css set `[hidden] { display: none !important; }` so we also need the `!important` here to be able to override the default hidden behavior on the sphinx rendered scikit-learn.org. See: https://github.com/scikit-learn/scikit-learn/issues/21755 */display: inline-block !important;position: relative;}#sk-container-id-5 div.sk-text-repr-fallback {display: none;}</style><div id=\"sk-container-id-5\" class=\"sk-top-container\"><div class=\"sk-text-repr-fallback\"><pre>KNeighborsClassifier(n_neighbors=100)</pre><b>In a Jupyter environment, please rerun this cell to show the HTML representation or trust the notebook. <br />On GitHub, the HTML representation is unable to render, please try loading this page with nbviewer.org.</b></div><div class=\"sk-container\" hidden><div class=\"sk-item\"><div class=\"sk-estimator sk-toggleable\"><input class=\"sk-toggleable__control sk-hidden--visually\" id=\"sk-estimator-id-5\" type=\"checkbox\" checked><label for=\"sk-estimator-id-5\" class=\"sk-toggleable__label sk-toggleable__label-arrow\">KNeighborsClassifier</label><div class=\"sk-toggleable__content\"><pre>KNeighborsClassifier(n_neighbors=100)</pre></div></div></div></div></div>"
      ],
      "text/plain": [
       "KNeighborsClassifier(n_neighbors=100)"
      ]
     },
     "execution_count": 34,
     "metadata": {},
     "output_type": "execute_result"
    }
   ],
   "source": [
    "# 모델 학습\n",
    "# 학습 중요 X\n",
    "# 어떤 데이터를 보면서 학습하는지가 중요\n",
    "# train(학습 데이터)가 좋은 데이터야만 좋은 모델이 탄생\n",
    "\n",
    "knn_model.fit(X_train, y_train)"
   ]
  },
  {
   "cell_type": "code",
   "execution_count": 35,
   "id": "b047ef31",
   "metadata": {},
   "outputs": [
    {
     "data": {
      "text/plain": [
       "array(['Overweight', 'Overweight', 'Normal', 'Extreme Obesity', 'Normal',\n",
       "       'Obesity', 'Obesity', 'Extreme Obesity', 'Normal',\n",
       "       'Extreme Obesity', 'Normal', 'Obesity', 'Extreme Obesity',\n",
       "       'Extreme Obesity', 'Extreme Obesity', 'Obesity', 'Obesity',\n",
       "       'Obesity', 'Extreme Obesity', 'Obesity', 'Normal',\n",
       "       'Extreme Obesity', 'Normal', 'Normal', 'Obesity',\n",
       "       'Extreme Obesity', 'Obesity', 'Extreme Obesity', 'Obesity',\n",
       "       'Overweight', 'Extreme Obesity', 'Normal', 'Obesity',\n",
       "       'Extreme Obesity', 'Extreme Obesity', 'Overweight',\n",
       "       'Extreme Obesity', 'Obesity', 'Normal', 'Normal', 'Normal',\n",
       "       'Normal', 'Overweight', 'Overweight', 'Extreme Obesity', 'Normal',\n",
       "       'Obesity', 'Extreme Obesity', 'Normal', 'Extreme Obesity',\n",
       "       'Obesity', 'Obesity', 'Normal', 'Obesity', 'Obesity',\n",
       "       'Extreme Obesity', 'Normal', 'Extreme Obesity', 'Extreme Obesity',\n",
       "       'Extreme Obesity', 'Normal', 'Obesity', 'Extreme Obesity',\n",
       "       'Extreme Obesity', 'Obesity', 'Obesity', 'Extreme Obesity',\n",
       "       'Normal', 'Extreme Obesity', 'Normal', 'Normal', 'Extreme Obesity',\n",
       "       'Extreme Obesity', 'Obesity', 'Normal', 'Normal',\n",
       "       'Extreme Obesity', 'Obesity', 'Obesity', 'Obesity', 'Overweight',\n",
       "       'Extreme Obesity', 'Obesity', 'Obesity', 'Normal',\n",
       "       'Extreme Obesity', 'Extreme Obesity', 'Extreme Obesity', 'Normal',\n",
       "       'Extreme Obesity', 'Obesity', 'Normal', 'Extreme Obesity',\n",
       "       'Extreme Obesity', 'Obesity', 'Extreme Obesity', 'Obesity',\n",
       "       'Obesity', 'Extreme Obesity', 'Extreme Obesity', 'Extreme Obesity',\n",
       "       'Obesity', 'Extreme Obesity', 'Normal', 'Overweight', 'Normal',\n",
       "       'Obesity', 'Overweight', 'Obesity', 'Extreme Obesity', 'Obesity',\n",
       "       'Extreme Obesity', 'Normal', 'Extreme Obesity', 'Overweight',\n",
       "       'Extreme Obesity', 'Obesity', 'Extreme Obesity', 'Extreme Obesity',\n",
       "       'Obesity', 'Extreme Obesity', 'Extreme Obesity', 'Normal',\n",
       "       'Extreme Obesity', 'Obesity', 'Extreme Obesity', 'Extreme Obesity',\n",
       "       'Normal', 'Normal', 'Extreme Obesity', 'Extreme Obesity',\n",
       "       'Obesity', 'Obesity', 'Obesity', 'Obesity', 'Obesity',\n",
       "       'Extreme Obesity', 'Overweight', 'Extreme Obesity',\n",
       "       'Extreme Obesity', 'Normal', 'Extreme Obesity', 'Normal', 'Normal',\n",
       "       'Obesity', 'Extreme Obesity', 'Obesity', 'Extreme Obesity',\n",
       "       'Obesity', 'Extreme Obesity'], dtype=object)"
      ]
     },
     "execution_count": 35,
     "metadata": {},
     "output_type": "execute_result"
    }
   ],
   "source": [
    "# 모델 예측\n",
    "# 모델이름.predict(테스트 문제)\n",
    "\n",
    "pre = knn_model.predict(X_test)\n",
    "pre"
   ]
  },
  {
   "cell_type": "code",
   "execution_count": 36,
   "id": "0e2910f6",
   "metadata": {},
   "outputs": [
    {
     "data": {
      "text/plain": [
       "68.66666666666667"
      ]
     },
     "execution_count": 36,
     "metadata": {},
     "output_type": "execute_result"
    }
   ],
   "source": [
    "# 실제 값과 pre(예측값)이 어느정도 맞아 떨어지는 지 확인\n",
    "# 정확도 평가 지표\n",
    "# accuracy_score(실제답, 예측값)\n",
    "\n",
    "accuracy_score(y_test, pre) * 100 # 90.0%\n",
    "# -> 100으로 올리고 싶으면? -> 많은 데이터를 제공해줌\n",
    "# -> 데이터가 한정적인 경우\n",
    "# KNeighborsClassifier(n_neighbors = n) -> n의 숫자를 변경해줌"
   ]
  }
 ],
 "metadata": {
  "kernelspec": {
   "display_name": "Python 3 (ipykernel)",
   "language": "python",
   "name": "python3"
  },
  "language_info": {
   "codemirror_mode": {
    "name": "ipython",
    "version": 3
   },
   "file_extension": ".py",
   "mimetype": "text/x-python",
   "name": "python",
   "nbconvert_exporter": "python",
   "pygments_lexer": "ipython3",
   "version": "3.11.5"
  }
 },
 "nbformat": 4,
 "nbformat_minor": 5
}
